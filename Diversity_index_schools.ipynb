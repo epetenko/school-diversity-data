{
 "cells": [
  {
   "cell_type": "code",
   "execution_count": 1,
   "metadata": {
    "collapsed": true
   },
   "outputs": [],
   "source": [
    "import pandas as pd\n",
    "import matplotlib.pyplot as plt\n",
    "# This Jupyter magic function will draw our charts right into the notebook\n",
    "%matplotlib inline\n"
   ]
  },
  {
   "cell_type": "code",
   "execution_count": 2,
   "metadata": {
    "collapsed": false
   },
   "outputs": [
    {
     "ename": "CParserError",
     "evalue": "Error tokenizing data. C error: Expected 1 fields in line 1048, saw 2\n",
     "output_type": "error",
     "traceback": [
      "\u001b[0;31m---------------------------------------------------------------------------\u001b[0m",
      "\u001b[0;31mCParserError\u001b[0m                              Traceback (most recent call last)",
      "\u001b[0;32m<ipython-input-2-1adb12d464a1>\u001b[0m in \u001b[0;36m<module>\u001b[0;34m()\u001b[0m\n\u001b[0;32m----> 1\u001b[0;31m \u001b[0mdf\u001b[0m \u001b[0;34m=\u001b[0m \u001b[0mpd\u001b[0m\u001b[0;34m.\u001b[0m\u001b[0mread_csv\u001b[0m\u001b[0;34m(\u001b[0m\u001b[0;34m\"enrollment_diversity_index_schools.csv\"\u001b[0m\u001b[0;34m,\u001b[0m \u001b[0mdtype\u001b[0m\u001b[0;34m=\u001b[0m\u001b[0;34m{\u001b[0m\u001b[0;34m\"DIST_ID\"\u001b[0m\u001b[0;34m:\u001b[0m\u001b[0mstr\u001b[0m\u001b[0;34m}\u001b[0m\u001b[0;34m)\u001b[0m\u001b[0;34m\u001b[0m\u001b[0m\n\u001b[0m",
      "\u001b[0;32m/Users/epetenko/miniconda2/lib/python2.7/site-packages/pandas/io/parsers.pyc\u001b[0m in \u001b[0;36mparser_f\u001b[0;34m(filepath_or_buffer, sep, delimiter, header, names, index_col, usecols, squeeze, prefix, mangle_dupe_cols, dtype, engine, converters, true_values, false_values, skipinitialspace, skiprows, skipfooter, nrows, na_values, keep_default_na, na_filter, verbose, skip_blank_lines, parse_dates, infer_datetime_format, keep_date_col, date_parser, dayfirst, iterator, chunksize, compression, thousands, decimal, lineterminator, quotechar, quoting, escapechar, comment, encoding, dialect, tupleize_cols, error_bad_lines, warn_bad_lines, skip_footer, doublequote, delim_whitespace, as_recarray, compact_ints, use_unsigned, low_memory, buffer_lines, memory_map, float_precision)\u001b[0m\n\u001b[1;32m    560\u001b[0m                     skip_blank_lines=skip_blank_lines)\n\u001b[1;32m    561\u001b[0m \u001b[0;34m\u001b[0m\u001b[0m\n\u001b[0;32m--> 562\u001b[0;31m         \u001b[0;32mreturn\u001b[0m \u001b[0m_read\u001b[0m\u001b[0;34m(\u001b[0m\u001b[0mfilepath_or_buffer\u001b[0m\u001b[0;34m,\u001b[0m \u001b[0mkwds\u001b[0m\u001b[0;34m)\u001b[0m\u001b[0;34m\u001b[0m\u001b[0m\n\u001b[0m\u001b[1;32m    563\u001b[0m \u001b[0;34m\u001b[0m\u001b[0m\n\u001b[1;32m    564\u001b[0m     \u001b[0mparser_f\u001b[0m\u001b[0;34m.\u001b[0m\u001b[0m__name__\u001b[0m \u001b[0;34m=\u001b[0m \u001b[0mname\u001b[0m\u001b[0;34m\u001b[0m\u001b[0m\n",
      "\u001b[0;32m/Users/epetenko/miniconda2/lib/python2.7/site-packages/pandas/io/parsers.pyc\u001b[0m in \u001b[0;36m_read\u001b[0;34m(filepath_or_buffer, kwds)\u001b[0m\n\u001b[1;32m    323\u001b[0m         \u001b[0;32mreturn\u001b[0m \u001b[0mparser\u001b[0m\u001b[0;34m\u001b[0m\u001b[0m\n\u001b[1;32m    324\u001b[0m \u001b[0;34m\u001b[0m\u001b[0m\n\u001b[0;32m--> 325\u001b[0;31m     \u001b[0;32mreturn\u001b[0m \u001b[0mparser\u001b[0m\u001b[0;34m.\u001b[0m\u001b[0mread\u001b[0m\u001b[0;34m(\u001b[0m\u001b[0;34m)\u001b[0m\u001b[0;34m\u001b[0m\u001b[0m\n\u001b[0m\u001b[1;32m    326\u001b[0m \u001b[0;34m\u001b[0m\u001b[0m\n\u001b[1;32m    327\u001b[0m _parser_defaults = {\n",
      "\u001b[0;32m/Users/epetenko/miniconda2/lib/python2.7/site-packages/pandas/io/parsers.pyc\u001b[0m in \u001b[0;36mread\u001b[0;34m(self, nrows)\u001b[0m\n\u001b[1;32m    813\u001b[0m                 \u001b[0;32mraise\u001b[0m \u001b[0mValueError\u001b[0m\u001b[0;34m(\u001b[0m\u001b[0;34m'skip_footer not supported for iteration'\u001b[0m\u001b[0;34m)\u001b[0m\u001b[0;34m\u001b[0m\u001b[0m\n\u001b[1;32m    814\u001b[0m \u001b[0;34m\u001b[0m\u001b[0m\n\u001b[0;32m--> 815\u001b[0;31m         \u001b[0mret\u001b[0m \u001b[0;34m=\u001b[0m \u001b[0mself\u001b[0m\u001b[0;34m.\u001b[0m\u001b[0m_engine\u001b[0m\u001b[0;34m.\u001b[0m\u001b[0mread\u001b[0m\u001b[0;34m(\u001b[0m\u001b[0mnrows\u001b[0m\u001b[0;34m)\u001b[0m\u001b[0;34m\u001b[0m\u001b[0m\n\u001b[0m\u001b[1;32m    816\u001b[0m \u001b[0;34m\u001b[0m\u001b[0m\n\u001b[1;32m    817\u001b[0m         \u001b[0;32mif\u001b[0m \u001b[0mself\u001b[0m\u001b[0;34m.\u001b[0m\u001b[0moptions\u001b[0m\u001b[0;34m.\u001b[0m\u001b[0mget\u001b[0m\u001b[0;34m(\u001b[0m\u001b[0;34m'as_recarray'\u001b[0m\u001b[0;34m)\u001b[0m\u001b[0;34m:\u001b[0m\u001b[0;34m\u001b[0m\u001b[0m\n",
      "\u001b[0;32m/Users/epetenko/miniconda2/lib/python2.7/site-packages/pandas/io/parsers.pyc\u001b[0m in \u001b[0;36mread\u001b[0;34m(self, nrows)\u001b[0m\n\u001b[1;32m   1312\u001b[0m     \u001b[0;32mdef\u001b[0m \u001b[0mread\u001b[0m\u001b[0;34m(\u001b[0m\u001b[0mself\u001b[0m\u001b[0;34m,\u001b[0m \u001b[0mnrows\u001b[0m\u001b[0;34m=\u001b[0m\u001b[0mNone\u001b[0m\u001b[0;34m)\u001b[0m\u001b[0;34m:\u001b[0m\u001b[0;34m\u001b[0m\u001b[0m\n\u001b[1;32m   1313\u001b[0m         \u001b[0;32mtry\u001b[0m\u001b[0;34m:\u001b[0m\u001b[0;34m\u001b[0m\u001b[0m\n\u001b[0;32m-> 1314\u001b[0;31m             \u001b[0mdata\u001b[0m \u001b[0;34m=\u001b[0m \u001b[0mself\u001b[0m\u001b[0;34m.\u001b[0m\u001b[0m_reader\u001b[0m\u001b[0;34m.\u001b[0m\u001b[0mread\u001b[0m\u001b[0;34m(\u001b[0m\u001b[0mnrows\u001b[0m\u001b[0;34m)\u001b[0m\u001b[0;34m\u001b[0m\u001b[0m\n\u001b[0m\u001b[1;32m   1315\u001b[0m         \u001b[0;32mexcept\u001b[0m \u001b[0mStopIteration\u001b[0m\u001b[0;34m:\u001b[0m\u001b[0;34m\u001b[0m\u001b[0m\n\u001b[1;32m   1316\u001b[0m             \u001b[0;32mif\u001b[0m \u001b[0mself\u001b[0m\u001b[0;34m.\u001b[0m\u001b[0m_first_chunk\u001b[0m\u001b[0;34m:\u001b[0m\u001b[0;34m\u001b[0m\u001b[0m\n",
      "\u001b[0;32mpandas/parser.pyx\u001b[0m in \u001b[0;36mpandas.parser.TextReader.read (pandas/parser.c:8748)\u001b[0;34m()\u001b[0m\n",
      "\u001b[0;32mpandas/parser.pyx\u001b[0m in \u001b[0;36mpandas.parser.TextReader._read_low_memory (pandas/parser.c:9003)\u001b[0;34m()\u001b[0m\n",
      "\u001b[0;32mpandas/parser.pyx\u001b[0m in \u001b[0;36mpandas.parser.TextReader._read_rows (pandas/parser.c:9731)\u001b[0;34m()\u001b[0m\n",
      "\u001b[0;32mpandas/parser.pyx\u001b[0m in \u001b[0;36mpandas.parser.TextReader._tokenize_rows (pandas/parser.c:9602)\u001b[0;34m()\u001b[0m\n",
      "\u001b[0;32mpandas/parser.pyx\u001b[0m in \u001b[0;36mpandas.parser.raise_parser_error (pandas/parser.c:23325)\u001b[0;34m()\u001b[0m\n",
      "\u001b[0;31mCParserError\u001b[0m: Error tokenizing data. C error: Expected 1 fields in line 1048, saw 2\n"
     ]
    }
   ],
   "source": [
    "df = pd.read_csv(\"enrollment_diversity_index_schools.csv\", dtype={\"DIST_ID\":str})"
   ]
  },
  {
   "cell_type": "code",
   "execution_count": null,
   "metadata": {
    "collapsed": false,
    "scrolled": true
   },
   "outputs": [],
   "source": [
    "df.columns"
   ]
  },
  {
   "cell_type": "code",
   "execution_count": 4,
   "metadata": {
    "collapsed": false
   },
   "outputs": [
    {
     "data": {
      "text/plain": [
       "(array([   8.,   35.,   38.,   75.,   86.,  127.,  119.,  120.,  148.,\n",
       "         128.,  140.,  152.,  177.,  217.,  220.,  191.,  206.,  176.,\n",
       "         124.,   31.]),\n",
       " array([ 0.        ,  0.03879099,  0.07758198,  0.11637297,  0.15516396,\n",
       "         0.19395495,  0.23274594,  0.27153693,  0.31032792,  0.34911891,\n",
       "         0.3879099 ,  0.42670089,  0.46549188,  0.50428287,  0.54307386,\n",
       "         0.58186486,  0.62065585,  0.65944684,  0.69823783,  0.73702882,\n",
       "         0.77581981]),\n",
       " <a list of 20 Patch objects>)"
      ]
     },
     "execution_count": 4,
     "metadata": {},
     "output_type": "execute_result"
    },
    {
     "data": {
      "image/png": "[encoded data removed]",
      "text/plain": [
       "<matplotlib.figure.Figure at 0x1157daf10>"
      ]
     },
     "metadata": {},
     "output_type": "display_data"
    }
   ],
   "source": [
    "plt.style.use('fivethirtyeight')\n",
    "\n",
    "plt.hist(df[\"Diversity_index\"], bins=20)"
   ]
  },
  {
   "cell_type": "code",
   "execution_count": 5,
   "metadata": {
    "collapsed": false
   },
   "outputs": [
    {
     "data": {
      "text/plain": [
       "(array([ 408.,   98.,  111.,   77.,   61.,   74.,   68.,   78.,   97.,\n",
       "          88.,  114.,  132.,  131.,  147.,  149.,  170.,  210.,  179.,\n",
       "         106.,   20.]),\n",
       " array([ 0.  ,  0.05,  0.1 ,  0.15,  0.2 ,  0.25,  0.3 ,  0.35,  0.4 ,\n",
       "         0.45,  0.5 ,  0.55,  0.6 ,  0.65,  0.7 ,  0.75,  0.8 ,  0.85,\n",
       "         0.9 ,  0.95,  1.  ]),\n",
       " <a list of 20 Patch objects>)"
      ]
     },
     "execution_count": 5,
     "metadata": {},
     "output_type": "execute_result"
    },
    {
     "data": {
      "image/png": "[encoded data removed]",
      "text/plain": [
       "<matplotlib.figure.Figure at 0x117ea8110>"
      ]
     },
     "metadata": {},
     "output_type": "display_data"
    }
   ],
   "source": [
    "plt.hist(df[\"White_pcnt\"], bins=20)"
   ]
  },
  {
   "cell_type": "code",
   "execution_count": 7,
   "metadata": {
    "collapsed": false
   },
   "outputs": [],
   "source": [
    "Newark = df[df[\"DIST_ID\"]==\"3570\"]"
   ]
  },
  {
   "cell_type": "code",
   "execution_count": 14,
   "metadata": {
    "collapsed": false
   },
   "outputs": [
    {
     "data": {
      "text/plain": [
       "(array([ 3.,  1.,  0.,  4.,  3.,  7.,  5.,  4.,  3.,  6.,  3.,  4.,  3.,\n",
       "         2.,  5.,  6.,  4.,  0.,  1.,  1.]),\n",
       " array([ 0.04079861,  0.07200875,  0.10321889,  0.13442903,  0.16563917,\n",
       "         0.19684931,  0.22805945,  0.25926959,  0.29047973,  0.32168987,\n",
       "         0.35290001,  0.38411015,  0.41532029,  0.44653043,  0.47774057,\n",
       "         0.50895071,  0.54016085,  0.57137099,  0.60258113,  0.63379127,\n",
       "         0.66500141]),\n",
       " <a list of 20 Patch objects>)"
      ]
     },
     "execution_count": 14,
     "metadata": {},
     "output_type": "execute_result"
    },
    {
     "data": {
      "image/png": "[encoded data removed]",
      "text/plain": [
       "<matplotlib.figure.Figure at 0x118f93c50>"
      ]
     },
     "metadata": {},
     "output_type": "display_data"
    }
   ],
   "source": [
    "plt.hist(Newark[\"Diversity_index\"], bins=20)"
   ]
  },
  {
   "cell_type": "code",
   "execution_count": 20,
   "metadata": {
    "collapsed": false
   },
   "outputs": [],
   "source": [
    "chrts = df[df[\"COUNTY_NAME\"] == 'CHARTERS']"
   ]
  },
  {
   "cell_type": "code",
   "execution_count": 18,
   "metadata": {
    "collapsed": false
   },
   "outputs": [
    {
     "data": {
      "text/plain": [
       "(array([  1.,   3.,   7.,   3.,   0.,   5.,   5.,   2.,   5.,   4.,   3.,\n",
       "          4.,  11.,  10.,   5.,   4.,   4.,   6.,   2.,   5.]),\n",
       " array([ 0.02245424,  0.06012252,  0.09779079,  0.13545907,  0.17312735,\n",
       "         0.21079563,  0.24846391,  0.28613219,  0.32380046,  0.36146874,\n",
       "         0.39913702,  0.4368053 ,  0.47447358,  0.51214186,  0.54981014,\n",
       "         0.58747841,  0.62514669,  0.66281497,  0.70048325,  0.73815153,\n",
       "         0.77581981]),\n",
       " <a list of 20 Patch objects>)"
      ]
     },
     "execution_count": 18,
     "metadata": {},
     "output_type": "execute_result"
    },
    {
     "data": {
      "image/png": "[encoded data removed]",
      "text/plain": [
       "<matplotlib.figure.Figure at 0x119351c50>"
      ]
     },
     "metadata": {},
     "output_type": "display_data"
    }
   ],
   "source": [
    "plt.hist(chrts[\"Diversity_index\"], bins=20)"
   ]
  },
  {
   "cell_type": "code",
   "execution_count": 21,
   "metadata": {
    "collapsed": true
   },
   "outputs": [],
   "source": [
    "voc= df[df['LEA_NAME'].str.contains('VOCATIONAL')]"
   ]
  },
  {
   "cell_type": "code",
   "execution_count": 22,
   "metadata": {
    "collapsed": false
   },
   "outputs": [
    {
     "data": {
      "text/plain": [
       "(array([ 1.,  1.,  0.,  0.,  1.,  2.,  2.,  2.,  6.,  4.,  1.,  3.,  1.,\n",
       "         3.,  5.,  7.,  2.,  7.,  6.,  9.]),\n",
       " array([ 0.        ,  0.03628934,  0.07257867,  0.10886801,  0.14515734,\n",
       "         0.18144668,  0.21773602,  0.25402535,  0.29031469,  0.32660403,\n",
       "         0.36289336,  0.3991827 ,  0.43547203,  0.47176137,  0.50805071,\n",
       "         0.54434004,  0.58062938,  0.61691871,  0.65320805,  0.68949739,\n",
       "         0.72578672]),\n",
       " <a list of 20 Patch objects>)"
      ]
     },
     "execution_count": 22,
     "metadata": {},
     "output_type": "execute_result"
    },
    {
     "data": {
      "image/png": "[encoded data removed]",
      "text/plain": [
       "<matplotlib.figure.Figure at 0x119315b90>"
      ]
     },
     "metadata": {},
     "output_type": "display_data"
    }
   ],
   "source": [
    "plt.hist(voc[\"Diversity_index\"], bins=20)"
   ]
  },
  {
   "cell_type": "code",
   "execution_count": 22,
   "metadata": {
    "collapsed": true
   },
   "outputs": [],
   "source": [
    "uc = df[df[\"DIST_ID\"] == \"5240\"]"
   ]
  },
  {
   "cell_type": "code",
   "execution_count": 24,
   "metadata": {
    "collapsed": false
   },
   "outputs": [
    {
     "data": {
      "text/plain": [
       "(array([ 1.,  1.,  2.,  6.,  0.,  0.,  1.,  0.,  0.,  1.,  0.,  0.,  0.,\n",
       "         0.,  1.,  0.,  0.,  0.,  0.,  1.]),\n",
       " array([ 0.02957892,  0.04178734,  0.05399577,  0.06620419,  0.07841262,\n",
       "         0.09062104,  0.10282947,  0.11503789,  0.12724632,  0.13945474,\n",
       "         0.15166317,  0.16387159,  0.17608002,  0.18828844,  0.20049687,\n",
       "         0.21270529,  0.22491372,  0.23712214,  0.24933057,  0.26153899,\n",
       "         0.27374742]),\n",
       " <a list of 20 Patch objects>)"
      ]
     },
     "execution_count": 24,
     "metadata": {},
     "output_type": "execute_result"
    },
    {
     "data": {
      "image/png": "[encoded data removed]",
      "text/plain": [
       "<matplotlib.figure.Figure at 0x11986a9d0>"
      ]
     },
     "metadata": {},
     "output_type": "display_data"
    }
   ],
   "source": [
    "plt.hist(uc[\"Diversity_index\"], bins=20)"
   ]
  },
  {
   "cell_type": "code",
   "execution_count": 23,
   "metadata": {
    "collapsed": false
   },
   "outputs": [
    {
     "name": "stderr",
     "output_type": "stream",
     "text": [
      "/Users/epetenko/anaconda/lib/python2.7/site-packages/ipykernel/__main__.py:3: SettingWithCopyWarning: \n",
      "A value is trying to be set on a copy of a slice from a DataFrame.\n",
      "Try using .loc[row_indexer,col_indexer] = value instead\n",
      "\n",
      "See the caveats in the documentation: http://pandas.pydata.org/pandas-docs/stable/indexing.html#indexing-view-versus-copy\n",
      "  app.launch_new_instance()\n"
     ]
    }
   ],
   "source": [
    "Dist = df[[\"DIST_ID\", \"Diversity_index\"]]\n",
    "\n",
    "Dist[\"DIST_ID\"] = Dist[\"DIST_ID\"].astype(int)\n"
   ]
  },
  {
   "cell_type": "code",
   "execution_count": 8,
   "metadata": {
    "collapsed": false
   },
   "outputs": [],
   "source": [
    "df[\"Absolute_val\"] = df[\"Difference_btwn_schl_distrct\"].abs()"
   ]
  },
  {
   "cell_type": "code",
   "execution_count": 13,
   "metadata": {
    "collapsed": false
   },
   "outputs": [
    {
     "data": {
      "text/plain": [
       "LEA_NAME\n",
       "NEWARK CITY           2730.537985\n",
       "PATERSON CITY         1157.041248\n",
       "EAST ORANGE            753.774442\n",
       "UNION CITY             725.067434\n",
       "PASSAIC CITY           631.105236\n",
       "ELIZABETH CITY         562.946198\n",
       "EDISON TWP             554.750822\n",
       "JERSEY CITY            546.819448\n",
       "MIDDLETOWN TWP         523.397337\n",
       "NEW BRUNSWICK CITY     458.538839\n",
       "Name: Absolute_val, dtype: float64"
      ]
     },
     "execution_count": 13,
     "metadata": {},
     "output_type": "execute_result"
    }
   ],
   "source": [
    "df.groupby(\"LEA_NAME\").sum().iloc[:,35].sort_values(ascending=False).head(10)"
   ]
  },
  {
   "cell_type": "code",
   "execution_count": 16,
   "metadata": {
    "collapsed": false
   },
   "outputs": [
    {
     "name": "stdout",
     "output_type": "stream",
     "text": [
      "-0.366012798731\n",
      "-0.861069746191\n"
     ]
    }
   ],
   "source": [
    "print df[\"Diversity_index\"].skew()\n",
    "print df[\"Diversity_index\"].kurtosis()"
   ]
  },
  {
   "cell_type": "code",
   "execution_count": 26,
   "metadata": {
    "collapsed": false
   },
   "outputs": [
    {
     "name": "stdout",
     "output_type": "stream",
     "text": [
      "-0.00318957597297\n",
      "-0.832672050655\n"
     ]
    }
   ],
   "source": [
    "print Newark[\"Diversity_index\"].skew()\n",
    "print Newark[\"Diversity_index\"].kurtosis()"
   ]
  },
  {
   "cell_type": "code",
   "execution_count": 27,
   "metadata": {
    "collapsed": false,
    "scrolled": true
   },
   "outputs": [
    {
     "name": "stdout",
     "output_type": "stream",
     "text": [
      "-0.291227173407\n",
      "-0.889242603214\n"
     ]
    }
   ],
   "source": [
    "print chrts[\"Diversity_index\"].skew()\n",
    "print chrts[\"Diversity_index\"].kurtosis()"
   ]
  },
  {
   "cell_type": "code",
   "execution_count": null,
   "metadata": {
    "collapsed": false
   },
   "outputs": [],
   "source": []
  },
  {
   "cell_type": "code",
   "execution_count": 55,
   "metadata": {
    "collapsed": false
   },
   "outputs": [],
   "source": [
    "def skewtest(distest):\n",
    "    subset = df[df[\"DIST_ID\"]==distest]\n",
    "    return subset[\"Diversity_index\"].skew()\n"
   ]
  },
  {
   "cell_type": "code",
   "execution_count": 97,
   "metadata": {
    "collapsed": false
   },
   "outputs": [],
   "source": [
    "test = {}\n",
    "for n in df[\"DIST_ID\"].unique():\n",
    "    test[n] = skewtest(n)\n",
    "\n"
   ]
  },
  {
   "cell_type": "code",
   "execution_count": 98,
   "metadata": {
    "collapsed": false
   },
   "outputs": [],
   "source": [
    "topdict = pd.DataFrame.from_dict(test, orient='index')"
   ]
  },
  {
   "cell_type": "code",
   "execution_count": 99,
   "metadata": {
    "collapsed": false,
    "scrolled": true
   },
   "outputs": [
    {
     "data": {
      "text/html": [
       "<div>\n",
       "<table border=\"1\" class=\"dataframe\">\n",
       "  <thead>\n",
       "    <tr style=\"text-align: right;\">\n",
       "      <th></th>\n",
       "      <th>0</th>\n",
       "    </tr>\n",
       "  </thead>\n",
       "  <tbody>\n",
       "    <tr>\n",
       "      <th>5850</th>\n",
       "      <td>-2.604837</td>\n",
       "    </tr>\n",
       "    <tr>\n",
       "      <th>0285</th>\n",
       "      <td>-2.552222</td>\n",
       "    </tr>\n",
       "    <tr>\n",
       "      <th>1610</th>\n",
       "      <td>-2.503086</td>\n",
       "    </tr>\n",
       "    <tr>\n",
       "      <th>2660</th>\n",
       "      <td>-2.368876</td>\n",
       "    </tr>\n",
       "    <tr>\n",
       "      <th>5290</th>\n",
       "      <td>-2.317604</td>\n",
       "    </tr>\n",
       "    <tr>\n",
       "      <th>4130</th>\n",
       "      <td>-2.315162</td>\n",
       "    </tr>\n",
       "    <tr>\n",
       "      <th>2295</th>\n",
       "      <td>-2.295747</td>\n",
       "    </tr>\n",
       "    <tr>\n",
       "      <th>4180</th>\n",
       "      <td>-2.250555</td>\n",
       "    </tr>\n",
       "    <tr>\n",
       "      <th>3105</th>\n",
       "      <td>-1.954850</td>\n",
       "    </tr>\n",
       "    <tr>\n",
       "      <th>2410</th>\n",
       "      <td>-1.953663</td>\n",
       "    </tr>\n",
       "  </tbody>\n",
       "</table>\n",
       "</div>"
      ],
      "text/plain": [
       "             0\n",
       "5850 -2.604837\n",
       "0285 -2.552222\n",
       "1610 -2.503086\n",
       "2660 -2.368876\n",
       "5290 -2.317604\n",
       "4130 -2.315162\n",
       "2295 -2.295747\n",
       "4180 -2.250555\n",
       "3105 -1.954850\n",
       "2410 -1.953663"
      ]
     },
     "execution_count": 99,
     "metadata": {},
     "output_type": "execute_result"
    }
   ],
   "source": [
    "topdict.sort_values(0).head(10)"
   ]
  },
  {
   "cell_type": "code",
   "execution_count": 100,
   "metadata": {
    "collapsed": false
   },
   "outputs": [
    {
     "name": "stdout",
     "output_type": "stream",
     "text": [
      "6    WALL TWP\n",
      "Name: LEA_NAME, dtype: object\n"
     ]
    },
    {
     "data": {
      "text/plain": [
       "(array([ 2.,  0.,  1.,  1.,  1.,  0.,  1.,  0.,  0.,  0.,  0.,  0.,  0.,\n",
       "         0.,  0.,  0.,  0.,  0.,  0.,  1.]),\n",
       " array([ 0.18162412,  0.19665143,  0.21167874,  0.22670605,  0.24173336,\n",
       "         0.25676067,  0.27178798,  0.28681529,  0.3018426 ,  0.31686991,\n",
       "         0.33189722,  0.34692453,  0.36195184,  0.37697915,  0.39200646,\n",
       "         0.40703377,  0.42206108,  0.43708839,  0.4521157 ,  0.46714301,\n",
       "         0.48217032]),\n",
       " <a list of 20 Patch objects>)"
      ]
     },
     "execution_count": 100,
     "metadata": {},
     "output_type": "execute_result"
    },
    {
     "data": {
      "image/png": "[encoded data removed]",
      "text/plain": [
       "<matplotlib.figure.Figure at 0x11c909090>"
      ]
     },
     "metadata": {},
     "output_type": "display_data"
    }
   ],
   "source": [
    "spec = df[df[\"DIST_ID\"]==\"5420\"]\n",
    "print spec[\"LEA_NAME\"].head(1)\n",
    "plt.hist(spec[\"Diversity_index\"], bins=20)"
   ]
  },
  {
   "cell_type": "code",
   "execution_count": 13,
   "metadata": {
    "collapsed": false
   },
   "outputs": [
    {
     "data": {
      "text/html": [
       "<div>\n",
       "<table border=\"1\" class=\"dataframe\">\n",
       "  <thead>\n",
       "    <tr style=\"text-align: right;\">\n",
       "      <th></th>\n",
       "      <th>0</th>\n",
       "    </tr>\n",
       "  </thead>\n",
       "  <tbody>\n",
       "    <tr>\n",
       "      <th>4010</th>\n",
       "      <td>4.530378</td>\n",
       "    </tr>\n",
       "    <tr>\n",
       "      <th>3530</th>\n",
       "      <td>3.096368</td>\n",
       "    </tr>\n",
       "    <tr>\n",
       "      <th>2330</th>\n",
       "      <td>3.072463</td>\n",
       "    </tr>\n",
       "    <tr>\n",
       "      <th>3570</th>\n",
       "      <td>3.043725</td>\n",
       "    </tr>\n",
       "    <tr>\n",
       "      <th>0110</th>\n",
       "      <td>2.887326</td>\n",
       "    </tr>\n",
       "    <tr>\n",
       "      <th>2520</th>\n",
       "      <td>2.644384</td>\n",
       "    </tr>\n",
       "    <tr>\n",
       "      <th>1210</th>\n",
       "      <td>2.462859</td>\n",
       "    </tr>\n",
       "    <tr>\n",
       "      <th>1320</th>\n",
       "      <td>2.259981</td>\n",
       "    </tr>\n",
       "    <tr>\n",
       "      <th>1390</th>\n",
       "      <td>1.959148</td>\n",
       "    </tr>\n",
       "    <tr>\n",
       "      <th>4970</th>\n",
       "      <td>1.871183</td>\n",
       "    </tr>\n",
       "  </tbody>\n",
       "</table>\n",
       "</div>"
      ],
      "text/plain": [
       "             0\n",
       "4010  4.530378\n",
       "3530  3.096368\n",
       "2330  3.072463\n",
       "3570  3.043725\n",
       "0110  2.887326\n",
       "2520  2.644384\n",
       "1210  2.462859\n",
       "1320  2.259981\n",
       "1390  1.959148\n",
       "4970  1.871183"
      ]
     },
     "execution_count": 13,
     "metadata": {},
     "output_type": "execute_result"
    }
   ],
   "source": [
    "def pnctwhite(distest):\n",
    "    subset = df[df[\"DIST_ID\"]==distest]\n",
    "    return subset['White_pcnt'].skew()\n",
    "\n",
    "white = {}\n",
    "for n in df[\"DIST_ID\"].unique():\n",
    "    white[n] = pnctwhite(n)\n",
    "\n",
    "whitedf = pd.DataFrame.from_dict(white, orient='index')\n",
    "\n",
    "whitedf.sort_values(0,ascending=False).head(10)"
   ]
  },
  {
   "cell_type": "code",
   "execution_count": 19,
   "metadata": {
    "collapsed": false
   },
   "outputs": [
    {
     "name": "stdout",
     "output_type": "stream",
     "text": [
      "1    EAST ORANGE\n",
      "Name: LEA_NAME, dtype: object\n"
     ]
    },
    {
     "data": {
      "text/plain": [
       "(array([ 6.,  2.,  3.,  0.,  5.,  1.,  1.,  0.,  0.,  1.,  0.,  0.,  0.,\n",
       "         0.,  0.,  0.,  0.,  0.,  0.,  1.]),\n",
       " array([ 0.        ,  0.00107914,  0.00215827,  0.00323741,  0.00431655,\n",
       "         0.00539568,  0.00647482,  0.00755396,  0.00863309,  0.00971223,\n",
       "         0.01079137,  0.0118705 ,  0.01294964,  0.01402878,  0.01510791,\n",
       "         0.01618705,  0.01726619,  0.01834532,  0.01942446,  0.0205036 ,\n",
       "         0.02158273]),\n",
       " <a list of 20 Patch objects>)"
      ]
     },
     "execution_count": 19,
     "metadata": {},
     "output_type": "execute_result"
    },
    {
     "data": {
      "image/png": "[encoded data removed]",
      "text/plain": [
       "<matplotlib.figure.Figure at 0x11a4f8810>"
      ]
     },
     "metadata": {},
     "output_type": "display_data"
    }
   ],
   "source": [
    "spectwo = df[df[\"DIST_ID\"]==\"1210\"]\n",
    "print spectwo[\"LEA_NAME\"].head(1)\n",
    "plt.hist(spectwo['White_pcnt'], bins=20)"
   ]
  },
  {
   "cell_type": "code",
   "execution_count": 22,
   "metadata": {
    "collapsed": false
   },
   "outputs": [
    {
     "data": {
      "text/html": [
       "<div>\n",
       "<table border=\"1\" class=\"dataframe\">\n",
       "  <thead>\n",
       "    <tr style=\"text-align: right;\">\n",
       "      <th></th>\n",
       "      <th>0</th>\n",
       "    </tr>\n",
       "  </thead>\n",
       "  <tbody>\n",
       "    <tr>\n",
       "      <th>0920</th>\n",
       "      <td>-5.898886</td>\n",
       "    </tr>\n",
       "    <tr>\n",
       "      <th>3760</th>\n",
       "      <td>-5.777841</td>\n",
       "    </tr>\n",
       "    <tr>\n",
       "      <th>0760</th>\n",
       "      <td>-5.268443</td>\n",
       "    </tr>\n",
       "    <tr>\n",
       "      <th>2400</th>\n",
       "      <td>-3.852127</td>\n",
       "    </tr>\n",
       "    <tr>\n",
       "      <th>1960</th>\n",
       "      <td>-3.364546</td>\n",
       "    </tr>\n",
       "    <tr>\n",
       "      <th>1730</th>\n",
       "      <td>-3.107583</td>\n",
       "    </tr>\n",
       "    <tr>\n",
       "      <th>5245</th>\n",
       "      <td>-3.028261</td>\n",
       "    </tr>\n",
       "    <tr>\n",
       "      <th>0475</th>\n",
       "      <td>-2.955405</td>\n",
       "    </tr>\n",
       "    <tr>\n",
       "      <th>2240</th>\n",
       "      <td>-2.954465</td>\n",
       "    </tr>\n",
       "    <tr>\n",
       "      <th>4140</th>\n",
       "      <td>-2.900682</td>\n",
       "    </tr>\n",
       "  </tbody>\n",
       "</table>\n",
       "</div>"
      ],
      "text/plain": [
       "             0\n",
       "0920 -5.898886\n",
       "3760 -5.777841\n",
       "0760 -5.268443\n",
       "2400 -3.852127\n",
       "1960 -3.364546\n",
       "1730 -3.107583\n",
       "5245 -3.028261\n",
       "0475 -2.955405\n",
       "2240 -2.954465\n",
       "4140 -2.900682"
      ]
     },
     "execution_count": 22,
     "metadata": {},
     "output_type": "execute_result"
    }
   ],
   "source": [
    "def whitekurt(distest):\n",
    "    subset = df[df[\"DIST_ID\"]==distest]\n",
    "    return subset['White_pcnt'].kurtosis()\n",
    "\n",
    "whitekt = {}\n",
    "for n in df[\"DIST_ID\"].unique():\n",
    "    whitekt[n] = whitekurt(n)\n",
    "\n",
    "whtk = pd.DataFrame.from_dict(whitekt, orient='index')\n",
    "\n",
    "whtk.sort_values(0).head(10)"
   ]
  },
  {
   "cell_type": "code",
   "execution_count": 29,
   "metadata": {
    "collapsed": false,
    "scrolled": false
   },
   "outputs": [
    {
     "name": "stdout",
     "output_type": "stream",
     "text": [
      "538    UNION CO ED SERV COMM\n",
      "Name: LEA_NAME, dtype: object\n"
     ]
    },
    {
     "data": {
      "text/plain": [
       "(array([ 1.,  1.,  0.,  0.,  0.,  0.,  0.,  0.,  0.,  0.,  0.,  0.,  0.,\n",
       "         1.,  0.,  0.,  0.,  0.,  0.,  2.]),\n",
       " array([ 0.04878049,  0.06590668,  0.08303287,  0.10015907,  0.11728526,\n",
       "         0.13441145,  0.15153765,  0.16866384,  0.18579003,  0.20291623,\n",
       "         0.22004242,  0.23716861,  0.2542948 ,  0.271421  ,  0.28854719,\n",
       "         0.30567338,  0.32279958,  0.33992577,  0.35705196,  0.37417815,\n",
       "         0.39130435]),\n",
       " <a list of 20 Patch objects>)"
      ]
     },
     "execution_count": 29,
     "metadata": {},
     "output_type": "execute_result"
    },
    {
     "data": {
      "image/png": "[encoded data removed]",
      "text/plain": [
       "<matplotlib.figure.Figure at 0x11ac3a390>"
      ]
     },
     "metadata": {},
     "output_type": "display_data"
    }
   ],
   "source": [
    "specthree = df[df[\"DIST_ID\"]==\"5245\"]\n",
    "print specthree[\"LEA_NAME\"].head(1)\n",
    "plt.hist(specthree['White_pcnt'], bins=20)"
   ]
  },
  {
   "cell_type": "code",
   "execution_count": 33,
   "metadata": {
    "collapsed": false
   },
   "outputs": [
    {
     "data": {
      "text/plain": [
       "array(['HUDSON', 'ESSEX', 'MONMOUTH', 'MIDDLESEX', 'PASSAIC', 'CAPE MAY',\n",
       "       'MORRIS', 'MERCER', 'OCEAN', 'BURLINGTON', 'UNION', 'BERGEN',\n",
       "       'GLOUCESTER', 'CAMDEN', 'WARREN', 'HUNTERDON', 'SALEM', 'SUSSEX',\n",
       "       'SOMERSET', 'CUMBERLAND', 'ATLANTIC', 'CHARTERS'], dtype=object)"
      ]
     },
     "execution_count": 33,
     "metadata": {},
     "output_type": "execute_result"
    }
   ],
   "source": [
    "df[\"COUNTY_NAME\"].unique()"
   ]
  },
  {
   "cell_type": "code",
   "execution_count": 36,
   "metadata": {
    "collapsed": false
   },
   "outputs": [
    {
     "name": "stdout",
     "output_type": "stream",
     "text": [
      "{'MIDDLESEX': -1.0982090897853281, 'ATLANTIC': -0.98455494117302278, 'CUMBERLAND': -0.8981640630026928, 'ESSEX': -1.0831824059650168, 'MORRIS': 0.9476503449195457, 'CHARTERS': 3.6134869779522059, 'SOMERSET': -1.3105198164363145, 'HUNTERDON': 14.295638453912211, 'MONMOUTH': 0.55679449220528454, 'UNION': -1.4521029362882532, 'SUSSEX': 0.88524162586122346, 'OCEAN': 5.035074968640604, 'CAMDEN': -1.386554612193744, 'MERCER': -1.0807775447665362, 'BERGEN': -0.82089260922120122, 'WARREN': -0.066199073273779607, 'PASSAIC': -1.5486312502497155, 'HUDSON': 0.50835961867833657, 'SALEM': -1.119688678291574, 'BURLINGTON': 0.89733378571276967, 'CAPE MAY': 1.6779855238680046, 'GLOUCESTER': 0.22205986036530412}\n"
     ]
    }
   ],
   "source": [
    "def whitecountykurt(countytest):\n",
    "    subset = df[df['COUNTY_NAME']==countytest]\n",
    "    return subset['White_pcnt'].kurtosis()\n",
    "\n",
    "whitectykt = {}\n",
    "for n in df['COUNTY_NAME'].unique():\n",
    "    whitectykt[n] = whitecountykurt(n)\n",
    "    \n",
    "print whitectykt"
   ]
  },
  {
   "cell_type": "code",
   "execution_count": 3,
   "metadata": {
    "collapsed": true
   },
   "outputs": [],
   "source": [
    "up = pd.read_csv(\"diversity_index_2.csv\")"
   ]
  },
  {
   "cell_type": "code",
   "execution_count": 5,
   "metadata": {
    "collapsed": false
   },
   "outputs": [
    {
     "data": {
      "text/plain": [
       "0.46396274678036564"
      ]
     },
     "execution_count": 5,
     "metadata": {},
     "output_type": "execute_result"
    }
   ],
   "source": [
    "up['White_total'].sum()/up['ROW_TOTAL'].sum()"
   ]
  },
  {
   "cell_type": "code",
   "execution_count": 14,
   "metadata": {
    "collapsed": false,
    "scrolled": true
   },
   "outputs": [
    {
     "data": {
      "text/plain": [
       "LEA_NAME\n",
       "PASSAIC COUNTY VOCATIONAL                  2047.000000\n",
       "PERTH AMBOY CITY                            961.150000\n",
       "NORTH BERGEN TWP                            957.000000\n",
       "GUTTENBERG TOWN                             904.000000\n",
       "Mastery Schools of Camden, Inc.             866.000000\n",
       "UNION CITY                                  826.928571\n",
       "NEW BRUNSWICK CITY                          790.850000\n",
       "LEAP Academy University CS                  780.000000\n",
       "WEST NEW YORK TOWN                          777.888889\n",
       "PASSAIC CITY                                769.588235\n",
       "PROSPECT PARK BORO                          647.000000\n",
       "LAKEWOOD TWP                                635.500000\n",
       "HALEDON BORO                                624.000000\n",
       "Paterson CS for Sci/Tech                    618.000000\n",
       "Passaic Arts and Science Charter School     585.000000\n",
       "DOVER TOWN                                  549.900000\n",
       "HACKENSACK CITY                             537.000000\n",
       "Community Charter School of Paterso         536.000000\n",
       "ELIZABETH CITY                              523.257143\n",
       "RED BANK BORO                               509.500000\n",
       "PASSAIC CO MANCHESTER REG                   509.000000\n",
       "BRIDGETON CITY                              498.562500\n",
       "KEARNY TOWN                                 493.000000\n",
       "North Star Academy Charter School           461.000000\n",
       "Maria L. Varisco-Rogers CS                  431.000000\n",
       "CAMDEN COUNTY VOCATIONAL                    419.000000\n",
       "FREEHOLD BORO                               416.000000\n",
       "Robert Treat Academy CS                     407.000000\n",
       "Bergen Arts and Sciences Charter School     405.000000\n",
       "Camden's Promise CS                         388.000000\n",
       "                                              ...     \n",
       "HUNTERDON CO VOCATIONAL                       7.000000\n",
       "SADDLE RIVER BORO                             6.000000\n",
       "STILLWATER TWP                                6.000000\n",
       "Discovery CS                                  6.000000\n",
       "ESSEX CO ED SERV COMM                         5.666667\n",
       "RUMSON BORO                                   5.500000\n",
       "HUNTERDON CO ED SER COMM                      5.500000\n",
       "MENDHAM BORO                                  5.500000\n",
       "STONE HARBOR BORO                             5.000000\n",
       "Burch Charter School of Excellence            3.000000\n",
       "BASS RIVER TWP                                3.000000\n",
       "CALIFON BORO                                  3.000000\n",
       "ESTELL MANOR CITY                             3.000000\n",
       "WARREN CO SPECIAL SERVICE                     3.000000\n",
       "Riverbank Charter School of Excelle           3.000000\n",
       "HARMONY TWP                                   3.000000\n",
       "FRELINGHUYSEN TWP                             3.000000\n",
       "AVALON BORO                                   3.000000\n",
       "SPRING LAKE BORO                              3.000000\n",
       "BAYSHORE JOINTURE COMM                        3.000000\n",
       "SUSSEX CO ED SERV COMM                        2.000000\n",
       "ISLAND HEIGHTS BORO                           1.000000\n",
       "PORT REPUBLIC CITY                            1.000000\n",
       "BLOOMSBURY BORO                               1.000000\n",
       "LOWER ALLOWAYS CREEK                          1.000000\n",
       "SEA GIRT BORO                                 1.000000\n",
       "FRENCHTOWN BORO                               1.000000\n",
       "MONMOUTH BEACH BORO                           1.000000\n",
       "Ridge and Valley CS                           0.000000\n",
       "BAY HEAD BORO                                 0.000000\n",
       "Name: Hispanic_total, dtype: float64"
      ]
     },
     "execution_count": 14,
     "metadata": {},
     "output_type": "execute_result"
    }
   ],
   "source": [
    "up.groupby(\"LEA_NAME\").mean().iloc[:,25].sort_values(ascending=False)"
   ]
  }
 ],
 "metadata": {
  "anaconda-cloud": {},
  "kernelspec": {
   "display_name": "Python 2",
   "language": "python",
   "name": "python2"
  },
  "language_info": {
   "codemirror_mode": {
    "name": "ipython",
    "version": 2
   },
   "file_extension": ".py",
   "mimetype": "text/x-python",
   "name": "python",
   "nbconvert_exporter": "python",
   "pygments_lexer": "ipython2",
   "version": "2.7.12"
  }
 },
 "nbformat": 4,
 "nbformat_minor": 0
}
